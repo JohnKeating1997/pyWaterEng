{
 "cells": [
  {
   "cell_type": "markdown",
   "metadata": {},
   "source": [
    "# Hydrostatics"
   ]
  },
  {
   "cell_type": "code",
   "execution_count": null,
   "metadata": {},
   "outputs": [],
   "source": [
    "from hydrology import FrequencyAnalysis as fqa\n",
    "from hydraulics.Pipeflow import Circle"
   ]
  },
  {
   "cell_type": "code",
   "execution_count": null,
   "metadata": {},
   "outputs": [],
   "source": [
    "shape = Circle(diameter=3)\n",
    "area = shape.area()\n",
    "Ixx = shape.Ixx() # second moment of area\n",
    "yc = 5/3**0.5 # location of centroid\n",
    "yD = shape.yD(yc) # location of force\n",
    "yD, area, Ixx"
   ]
  }
 ],
 "metadata": {
  "language_info": {
   "name": "python"
  },
  "orig_nbformat": 4
 },
 "nbformat": 4,
 "nbformat_minor": 2
}
