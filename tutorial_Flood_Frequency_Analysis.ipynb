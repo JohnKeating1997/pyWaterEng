{
 "cells": [
  {
   "cell_type": "code",
   "execution_count": 1,
   "metadata": {},
   "outputs": [],
   "source": [
    "from hydrology import FrequencyAnalysis as fqa\n",
    "# ! not finished"
   ]
  },
  {
   "cell_type": "code",
   "execution_count": 2,
   "metadata": {},
   "outputs": [
    {
     "data": {
      "text/html": [
       "<div>\n",
       "<style scoped>\n",
       "    .dataframe tbody tr th:only-of-type {\n",
       "        vertical-align: middle;\n",
       "    }\n",
       "\n",
       "    .dataframe tbody tr th {\n",
       "        vertical-align: top;\n",
       "    }\n",
       "\n",
       "    .dataframe thead th {\n",
       "        text-align: right;\n",
       "    }\n",
       "</style>\n",
       "<table border=\"1\" class=\"dataframe\">\n",
       "  <thead>\n",
       "    <tr style=\"text-align: right;\">\n",
       "      <th></th>\n",
       "      <th>year</th>\n",
       "      <th>discharge</th>\n",
       "      <th>rank</th>\n",
       "      <th>P</th>\n",
       "    </tr>\n",
       "  </thead>\n",
       "  <tbody>\n",
       "    <tr>\n",
       "      <th>0</th>\n",
       "      <td>1941</td>\n",
       "      <td>22.1</td>\n",
       "      <td>20</td>\n",
       "      <td>0.970297</td>\n",
       "    </tr>\n",
       "    <tr>\n",
       "      <th>1</th>\n",
       "      <td>1942</td>\n",
       "      <td>26.1</td>\n",
       "      <td>18</td>\n",
       "      <td>0.871287</td>\n",
       "    </tr>\n",
       "    <tr>\n",
       "      <th>2</th>\n",
       "      <td>1943</td>\n",
       "      <td>79.9</td>\n",
       "      <td>12</td>\n",
       "      <td>0.574257</td>\n",
       "    </tr>\n",
       "    <tr>\n",
       "      <th>3</th>\n",
       "      <td>1944</td>\n",
       "      <td>164.0</td>\n",
       "      <td>10</td>\n",
       "      <td>0.475248</td>\n",
       "    </tr>\n",
       "    <tr>\n",
       "      <th>4</th>\n",
       "      <td>1945</td>\n",
       "      <td>294.0</td>\n",
       "      <td>6</td>\n",
       "      <td>0.277228</td>\n",
       "    </tr>\n",
       "    <tr>\n",
       "      <th>5</th>\n",
       "      <td>1946</td>\n",
       "      <td>405.0</td>\n",
       "      <td>4</td>\n",
       "      <td>0.178218</td>\n",
       "    </tr>\n",
       "    <tr>\n",
       "      <th>6</th>\n",
       "      <td>1947</td>\n",
       "      <td>60.3</td>\n",
       "      <td>15</td>\n",
       "      <td>0.722772</td>\n",
       "    </tr>\n",
       "    <tr>\n",
       "      <th>7</th>\n",
       "      <td>1948</td>\n",
       "      <td>177.0</td>\n",
       "      <td>9</td>\n",
       "      <td>0.425743</td>\n",
       "    </tr>\n",
       "    <tr>\n",
       "      <th>8</th>\n",
       "      <td>1949</td>\n",
       "      <td>221.0</td>\n",
       "      <td>8</td>\n",
       "      <td>0.376238</td>\n",
       "    </tr>\n",
       "    <tr>\n",
       "      <th>9</th>\n",
       "      <td>1950</td>\n",
       "      <td>541.0</td>\n",
       "      <td>2</td>\n",
       "      <td>0.079208</td>\n",
       "    </tr>\n",
       "    <tr>\n",
       "      <th>10</th>\n",
       "      <td>1951</td>\n",
       "      <td>88.6</td>\n",
       "      <td>11</td>\n",
       "      <td>0.524752</td>\n",
       "    </tr>\n",
       "    <tr>\n",
       "      <th>11</th>\n",
       "      <td>1952</td>\n",
       "      <td>309.0</td>\n",
       "      <td>5</td>\n",
       "      <td>0.227723</td>\n",
       "    </tr>\n",
       "    <tr>\n",
       "      <th>12</th>\n",
       "      <td>1953</td>\n",
       "      <td>71.9</td>\n",
       "      <td>13</td>\n",
       "      <td>0.623762</td>\n",
       "    </tr>\n",
       "    <tr>\n",
       "      <th>13</th>\n",
       "      <td>1954</td>\n",
       "      <td>878.0</td>\n",
       "      <td>1</td>\n",
       "      <td>0.029703</td>\n",
       "    </tr>\n",
       "    <tr>\n",
       "      <th>14</th>\n",
       "      <td>1955</td>\n",
       "      <td>39.1</td>\n",
       "      <td>16</td>\n",
       "      <td>0.772277</td>\n",
       "    </tr>\n",
       "    <tr>\n",
       "      <th>15</th>\n",
       "      <td>1956</td>\n",
       "      <td>255.0</td>\n",
       "      <td>7</td>\n",
       "      <td>0.326733</td>\n",
       "    </tr>\n",
       "    <tr>\n",
       "      <th>16</th>\n",
       "      <td>1957</td>\n",
       "      <td>22.4</td>\n",
       "      <td>19</td>\n",
       "      <td>0.920792</td>\n",
       "    </tr>\n",
       "    <tr>\n",
       "      <th>17</th>\n",
       "      <td>1958</td>\n",
       "      <td>26.7</td>\n",
       "      <td>17</td>\n",
       "      <td>0.821782</td>\n",
       "    </tr>\n",
       "    <tr>\n",
       "      <th>18</th>\n",
       "      <td>1959</td>\n",
       "      <td>521.0</td>\n",
       "      <td>3</td>\n",
       "      <td>0.128713</td>\n",
       "    </tr>\n",
       "    <tr>\n",
       "      <th>19</th>\n",
       "      <td>1960</td>\n",
       "      <td>62.6</td>\n",
       "      <td>14</td>\n",
       "      <td>0.673267</td>\n",
       "    </tr>\n",
       "  </tbody>\n",
       "</table>\n",
       "</div>"
      ],
      "text/plain": [
       "    year  discharge  rank         P\n",
       "0   1941       22.1    20  0.970297\n",
       "1   1942       26.1    18  0.871287\n",
       "2   1943       79.9    12  0.574257\n",
       "3   1944      164.0    10  0.475248\n",
       "4   1945      294.0     6  0.277228\n",
       "5   1946      405.0     4  0.178218\n",
       "6   1947       60.3    15  0.722772\n",
       "7   1948      177.0     9  0.425743\n",
       "8   1949      221.0     8  0.376238\n",
       "9   1950      541.0     2  0.079208\n",
       "10  1951       88.6    11  0.524752\n",
       "11  1952      309.0     5  0.227723\n",
       "12  1953       71.9    13  0.623762\n",
       "13  1954      878.0     1  0.029703\n",
       "14  1955       39.1    16  0.772277\n",
       "15  1956      255.0     7  0.326733\n",
       "16  1957       22.4    19  0.920792\n",
       "17  1958       26.7    17  0.821782\n",
       "18  1959      521.0     3  0.128713\n",
       "19  1960       62.6    14  0.673267"
      ]
     },
     "execution_count": 2,
     "metadata": {},
     "output_type": "execute_result"
    }
   ],
   "source": [
    "years = list(range(1941,1960+1))\n",
    "discharges = [22.1, 26.1, 79.9, 164, 294, \n",
    "405, 60.3, 177, 221, 541,\n",
    "88.6, 309, 71.9, 878, 39.1,\n",
    "255, 22.4, 26.7, 521, 62.6]\n",
    "ffqa = fqa.FrequencyAnalysis(years, discharges, type='Australia')\n",
    "ffqa.table"
   ]
  },
  {
   "cell_type": "code",
   "execution_count": 9,
   "metadata": {},
   "outputs": [
    {
     "data": {
      "text/html": [
       "<div>\n",
       "<style scoped>\n",
       "    .dataframe tbody tr th:only-of-type {\n",
       "        vertical-align: middle;\n",
       "    }\n",
       "\n",
       "    .dataframe tbody tr th {\n",
       "        vertical-align: top;\n",
       "    }\n",
       "\n",
       "    .dataframe thead th {\n",
       "        text-align: right;\n",
       "    }\n",
       "</style>\n",
       "<table border=\"1\" class=\"dataframe\">\n",
       "  <thead>\n",
       "    <tr style=\"text-align: right;\">\n",
       "      <th></th>\n",
       "      <th>year</th>\n",
       "      <th>discharge</th>\n",
       "      <th>rank</th>\n",
       "      <th>P</th>\n",
       "    </tr>\n",
       "  </thead>\n",
       "  <tbody>\n",
       "    <tr>\n",
       "      <th>13</th>\n",
       "      <td>1954</td>\n",
       "      <td>878.0</td>\n",
       "      <td>1</td>\n",
       "      <td>0.029703</td>\n",
       "    </tr>\n",
       "    <tr>\n",
       "      <th>9</th>\n",
       "      <td>1950</td>\n",
       "      <td>541.0</td>\n",
       "      <td>2</td>\n",
       "      <td>0.079208</td>\n",
       "    </tr>\n",
       "    <tr>\n",
       "      <th>18</th>\n",
       "      <td>1959</td>\n",
       "      <td>521.0</td>\n",
       "      <td>3</td>\n",
       "      <td>0.128713</td>\n",
       "    </tr>\n",
       "    <tr>\n",
       "      <th>5</th>\n",
       "      <td>1946</td>\n",
       "      <td>405.0</td>\n",
       "      <td>4</td>\n",
       "      <td>0.178218</td>\n",
       "    </tr>\n",
       "    <tr>\n",
       "      <th>11</th>\n",
       "      <td>1952</td>\n",
       "      <td>309.0</td>\n",
       "      <td>5</td>\n",
       "      <td>0.227723</td>\n",
       "    </tr>\n",
       "    <tr>\n",
       "      <th>4</th>\n",
       "      <td>1945</td>\n",
       "      <td>294.0</td>\n",
       "      <td>6</td>\n",
       "      <td>0.277228</td>\n",
       "    </tr>\n",
       "    <tr>\n",
       "      <th>15</th>\n",
       "      <td>1956</td>\n",
       "      <td>255.0</td>\n",
       "      <td>7</td>\n",
       "      <td>0.326733</td>\n",
       "    </tr>\n",
       "    <tr>\n",
       "      <th>8</th>\n",
       "      <td>1949</td>\n",
       "      <td>221.0</td>\n",
       "      <td>8</td>\n",
       "      <td>0.376238</td>\n",
       "    </tr>\n",
       "    <tr>\n",
       "      <th>7</th>\n",
       "      <td>1948</td>\n",
       "      <td>177.0</td>\n",
       "      <td>9</td>\n",
       "      <td>0.425743</td>\n",
       "    </tr>\n",
       "    <tr>\n",
       "      <th>3</th>\n",
       "      <td>1944</td>\n",
       "      <td>164.0</td>\n",
       "      <td>10</td>\n",
       "      <td>0.475248</td>\n",
       "    </tr>\n",
       "    <tr>\n",
       "      <th>10</th>\n",
       "      <td>1951</td>\n",
       "      <td>88.6</td>\n",
       "      <td>11</td>\n",
       "      <td>0.524752</td>\n",
       "    </tr>\n",
       "    <tr>\n",
       "      <th>2</th>\n",
       "      <td>1943</td>\n",
       "      <td>79.9</td>\n",
       "      <td>12</td>\n",
       "      <td>0.574257</td>\n",
       "    </tr>\n",
       "    <tr>\n",
       "      <th>12</th>\n",
       "      <td>1953</td>\n",
       "      <td>71.9</td>\n",
       "      <td>13</td>\n",
       "      <td>0.623762</td>\n",
       "    </tr>\n",
       "    <tr>\n",
       "      <th>19</th>\n",
       "      <td>1960</td>\n",
       "      <td>62.6</td>\n",
       "      <td>14</td>\n",
       "      <td>0.673267</td>\n",
       "    </tr>\n",
       "    <tr>\n",
       "      <th>6</th>\n",
       "      <td>1947</td>\n",
       "      <td>60.3</td>\n",
       "      <td>15</td>\n",
       "      <td>0.722772</td>\n",
       "    </tr>\n",
       "    <tr>\n",
       "      <th>14</th>\n",
       "      <td>1955</td>\n",
       "      <td>39.1</td>\n",
       "      <td>16</td>\n",
       "      <td>0.772277</td>\n",
       "    </tr>\n",
       "    <tr>\n",
       "      <th>17</th>\n",
       "      <td>1958</td>\n",
       "      <td>26.7</td>\n",
       "      <td>17</td>\n",
       "      <td>0.821782</td>\n",
       "    </tr>\n",
       "    <tr>\n",
       "      <th>1</th>\n",
       "      <td>1942</td>\n",
       "      <td>26.1</td>\n",
       "      <td>18</td>\n",
       "      <td>0.871287</td>\n",
       "    </tr>\n",
       "    <tr>\n",
       "      <th>16</th>\n",
       "      <td>1957</td>\n",
       "      <td>22.4</td>\n",
       "      <td>19</td>\n",
       "      <td>0.920792</td>\n",
       "    </tr>\n",
       "    <tr>\n",
       "      <th>0</th>\n",
       "      <td>1941</td>\n",
       "      <td>22.1</td>\n",
       "      <td>20</td>\n",
       "      <td>0.970297</td>\n",
       "    </tr>\n",
       "  </tbody>\n",
       "</table>\n",
       "</div>"
      ],
      "text/plain": [
       "    year  discharge  rank         P\n",
       "13  1954      878.0     1  0.029703\n",
       "9   1950      541.0     2  0.079208\n",
       "18  1959      521.0     3  0.128713\n",
       "5   1946      405.0     4  0.178218\n",
       "11  1952      309.0     5  0.227723\n",
       "4   1945      294.0     6  0.277228\n",
       "15  1956      255.0     7  0.326733\n",
       "8   1949      221.0     8  0.376238\n",
       "7   1948      177.0     9  0.425743\n",
       "3   1944      164.0    10  0.475248\n",
       "10  1951       88.6    11  0.524752\n",
       "2   1943       79.9    12  0.574257\n",
       "12  1953       71.9    13  0.623762\n",
       "19  1960       62.6    14  0.673267\n",
       "6   1947       60.3    15  0.722772\n",
       "14  1955       39.1    16  0.772277\n",
       "17  1958       26.7    17  0.821782\n",
       "1   1942       26.1    18  0.871287\n",
       "16  1957       22.4    19  0.920792\n",
       "0   1941       22.1    20  0.970297"
      ]
     },
     "execution_count": 9,
     "metadata": {},
     "output_type": "execute_result"
    }
   ],
   "source": [
    "ffqa.table.sort_values(by='rank')"
   ]
  },
  {
   "cell_type": "code",
   "execution_count": 3,
   "metadata": {},
   "outputs": [
    {
     "name": "stdout",
     "output_type": "stream",
     "text": [
      "48726.363157786174\n"
     ]
    },
    {
     "data": {
      "text/plain": [
       "(213.2352409846593, 213.23511933233408)"
      ]
     },
     "execution_count": 3,
     "metadata": {},
     "output_type": "execute_result"
    }
   ],
   "source": [
    "res = ffqa.fit()\n",
    "ffqa.estimate_discharge(0.97), ffqa.estimate_discharge(0.03)\n"
   ]
  },
  {
   "cell_type": "code",
   "execution_count": 4,
   "metadata": {},
   "outputs": [
    {
     "data": {
      "text/plain": [
       "(['requested number of basinhopping iterations completed successfully'],\n",
       " array([   52.99224604,   809.94133218, 15810.40122286]))"
      ]
     },
     "execution_count": 4,
     "metadata": {},
     "output_type": "execute_result"
    }
   ],
   "source": [
    "res.message, res.x"
   ]
  },
  {
   "cell_type": "code",
   "execution_count": null,
   "metadata": {},
   "outputs": [],
   "source": []
  },
  {
   "cell_type": "code",
   "execution_count": 5,
   "metadata": {},
   "outputs": [
    {
     "data": {
      "text/plain": [
       "[213.23527015604475,\n",
       " 213.23511933233408,\n",
       " 213.23511933233408,\n",
       " 213.23511933233408,\n",
       " 213.23511933233408,\n",
       " 213.23511933233408,\n",
       " 213.23511933233408,\n",
       " 213.23511933233408,\n",
       " 213.23511933233408,\n",
       " 213.23511933233408,\n",
       " 213.23511933233408,\n",
       " 213.23511933233408,\n",
       " 213.23511933233408,\n",
       " 213.23511933233408,\n",
       " 213.23511933233408,\n",
       " 213.23511933233408,\n",
       " 213.23511933233408,\n",
       " 213.23511933233408,\n",
       " 213.23511933233408,\n",
       " 213.23511933233408]"
      ]
     },
     "execution_count": 5,
     "metadata": {},
     "output_type": "execute_result"
    }
   ],
   "source": [
    "from scipy.stats import pearson3\n",
    "skew, loc, scale = res.x\n",
    "[pearson3.ppf(probbility, skew, loc=loc, scale=scale)\n",
    "for probbility in ffqa.table['P']]\n"
   ]
  },
  {
   "cell_type": "code",
   "execution_count": 6,
   "metadata": {},
   "outputs": [
    {
     "data": {
      "text/plain": [
       "(array(0.), array(1.), array(0.), array(0.))"
      ]
     },
     "execution_count": 6,
     "metadata": {},
     "output_type": "execute_result"
    }
   ],
   "source": [
    "from scipy.stats import norm\n",
    "import numpy as np\n",
    "import matplotlib.pyplot as plt\n",
    "mean, var, skew, kurt = norm.stats(moments='mvsk')\n",
    "mean, var, skew, kurt\n"
   ]
  },
  {
   "cell_type": "code",
   "execution_count": 7,
   "metadata": {},
   "outputs": [
    {
     "data": {
      "text/plain": [
       "[<matplotlib.lines.Line2D at 0x279f8826970>]"
      ]
     },
     "execution_count": 7,
     "metadata": {},
     "output_type": "execute_result"
    },
    {
     "data": {
      "image/png": "[encoded data removed]",
      "text/plain": [
       "<Figure size 432x288 with 1 Axes>"
      ]
     },
     "metadata": {
      "needs_background": "light"
     },
     "output_type": "display_data"
    }
   ],
   "source": [
    "x = np.linspace(norm.ppf(0.01),\n",
    "                norm.ppf(0.99), 100)\n",
    "fig, ax = plt.subplots(1, 1)\n",
    "ax.plot(x, norm.pdf(x),\n",
    "        'r-', lw=5, alpha=0.6, label='norm pdf')\n"
   ]
  },
  {
   "cell_type": "code",
   "execution_count": 8,
   "metadata": {},
   "outputs": [
    {
     "data": {
      "text/plain": [
       "(-2.3263478740408408, 2.3263478740408408)"
      ]
     },
     "execution_count": 8,
     "metadata": {},
     "output_type": "execute_result"
    }
   ],
   "source": [
    "x[0], x[-1]"
   ]
  },
  {
   "cell_type": "code",
   "execution_count": null,
   "metadata": {},
   "outputs": [],
   "source": []
  }
 ],
 "metadata": {
  "interpreter": {
   "hash": "27a7da4b195e4199d8227e5668cddaae98a4315954ec6a4e6e28ff24793ee1f6"
  },
  "kernelspec": {
   "display_name": "Python 3.9.12 ('pyWaterEng')",
   "language": "python",
   "name": "python3"
  },
  "language_info": {
   "codemirror_mode": {
    "name": "ipython",
    "version": 3
   },
   "file_extension": ".py",
   "mimetype": "text/x-python",
   "name": "python",
   "nbconvert_exporter": "python",
   "pygments_lexer": "ipython3",
   "version": "3.9.12"
  },
  "orig_nbformat": 4
 },
 "nbformat": 4,
 "nbformat_minor": 2
}
