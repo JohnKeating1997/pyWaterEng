{
 "cells": [
  {
   "cell_type": "markdown",
   "metadata": {},
   "source": [
    "# Linear Reservoir\n",
    "Establishing relationship between rainfall and runoff is useful in practice. A runoff model is a mathematical model describing the rainfall–runoff relations of a rainfall catchment area, drainage basin or watershed. More precisely, it produces a surface runoff hydrograph in response to a rainfall event, represented by and input as a hyetograph. In other words, the model calculates the conversion of rainfall into runoff. More details can be found in this [link](https://en.wikipedia.org/wiki/Runoff_model_(reservoir)). The **linear reservoir** is one of the most well known runoff models. \n",
    "\n",
    "In this package, we can：\n",
    "* Use linear resevoir model to simulate runoff.\n",
    "* Show the intermediate process of calculation.\n",
    "* Visualize the result and process."
   ]
  },
  {
   "cell_type": "code",
   "execution_count": 20,
   "metadata": {},
   "outputs": [],
   "source": [
    "from hydrology import Runoff as rof\n",
    "from hydrology.Runoff import LinearResevoirModel"
   ]
  },
  {
   "cell_type": "markdown",
   "metadata": {},
   "source": [
    "The most concise way to use the linear resevoir model is as follow."
   ]
  },
  {
   "cell_type": "code",
   "execution_count": 28,
   "metadata": {},
   "outputs": [
    {
     "data": {
      "text/plain": [
       "========================\n",
       "[Runoff]\n",
       "Time\tValue\n",
       "0\t10\n",
       "1\t17.5\n",
       "2\t38.5\n",
       "3\t50.9\n",
       "4\t45.4\n",
       "5\t37.4\n",
       "6\t31.2\n",
       "7\t26.4\n",
       "8\t22.7\n",
       "9\t19.8\n",
       "10\t17.6\n",
       "11\t15.9\n",
       "12\t14.5\n",
       "13\t13.5\n",
       "14\t12.7\n",
       "15\t12.1\n",
       "16\t11.6\n",
       "17\t11.3\n",
       "18\t11.0\n",
       "19\t10.8\n",
       "20\t10.6\n",
       "21\t10.5\n",
       "22\t10.3\n",
       "23\t10.3\n",
       "24\t10.2\n",
       "========================"
      ]
     },
     "execution_count": 28,
     "metadata": {},
     "output_type": "execute_result"
    }
   ],
   "source": [
    "# you should provide excess rainfall, which equals to rainfall minus initial loss and continuous loss.\n",
    "excessRainfall = [0, 10, 20, 5, 0]\n",
    "# create linear resevoir model\n",
    "lrm = LinearResevoirModel(excessRainfall=excessRainfall,\n",
    "                        k=14102, area=24, baseflow=10)\n",
    "runoff = lrm.runoff(maxTime=25, digits=1)\n",
    "# You can achieve longer simulation by assigning a larger `maxTime`\n",
    "runoff # # print runoff "
   ]
  },
  {
   "cell_type": "markdown",
   "metadata": {},
   "source": [
    "You can also visualize the result."
   ]
  },
  {
   "cell_type": "code",
   "execution_count": 22,
   "metadata": {},
   "outputs": [
    {
     "data": {
      "image/png": "[encoded data removed]",
      "text/plain": [
       "<Figure size 432x288 with 1 Axes>"
      ]
     },
     "metadata": {
      "needs_background": "light"
     },
     "output_type": "display_data"
    }
   ],
   "source": [
    "runoff.plot()"
   ]
  },
  {
   "cell_type": "markdown",
   "metadata": {},
   "source": [
    "Although the above code achieve a whole linear resevoir model, you should also understand the intermediate process, which includes:\n",
    "* Convert rainfall unit from depth to flow\n",
    "* Compute direct runoff by solving linear resevoir equation\n",
    "* Compute storage by linear relationship\n",
    "* Combine direct runoff and base flow to get total runoff"
   ]
  },
  {
   "cell_type": "markdown",
   "metadata": {},
   "source": [
    "Convert rainfall unit from depth to flow."
   ]
  },
  {
   "cell_type": "code",
   "execution_count": 23,
   "metadata": {},
   "outputs": [
    {
     "data": {
      "text/plain": [
       "========================\n",
       "[Excess Rainfall (m^3/s)]\n",
       "Time\tValue\n",
       "0\t0.0\n",
       "1\t66.66666666666667\n",
       "2\t133.33333333333334\n",
       "3\t33.333333333333336\n",
       "4\t0.0\n",
       "========================"
      ]
     },
     "execution_count": 23,
     "metadata": {},
     "output_type": "execute_result"
    }
   ],
   "source": [
    "lrm.excess_rainfall_in_flow()"
   ]
  },
  {
   "cell_type": "markdown",
   "metadata": {},
   "source": [
    "Compute direct runoff by solving linear resevoir equation."
   ]
  },
  {
   "cell_type": "code",
   "execution_count": 24,
   "metadata": {},
   "outputs": [
    {
     "data": {
      "text/plain": [
       "========================\n",
       "[Runoff]\n",
       "Time\tValue\n",
       "0\t0\n",
       "1\t7.546220601182243\n",
       "2\t28.476519043877744\n",
       "3\t40.895367707067294\n",
       "4\t35.41031401913859\n",
       "5\t27.39389278477191\n",
       "6\t21.192282042401214\n",
       "7\t16.39463298236824\n",
       "8\t12.68310746755717\n",
       "9\t9.811821661796523\n",
       "10\t7.59055653901527\n",
       "11\t5.872156115140601\n",
       "12\t4.542778551657632\n",
       "13\t3.5143542788638023\n",
       "14\t2.718751499093353\n",
       "15\t2.103262541934752\n",
       "16\t1.6271120482254635\n",
       "17\t1.2587556544629388\n",
       "18\t0.9737902189160529\n",
       "19\t0.7533371445796303\n",
       "20\t0.582791696177752\n",
       "21\t0.4508554550609171\n",
       "22\t0.3487878133668345\n",
       "23\t0.2698269198867311\n",
       "24\t0.20874171603864705\n",
       "========================"
      ]
     },
     "execution_count": 24,
     "metadata": {},
     "output_type": "execute_result"
    }
   ],
   "source": [
    "runoffDirect, storages = lrm.direct_runoff(maxTime=25)\n",
    "runoffDirect"
   ]
  },
  {
   "cell_type": "markdown",
   "metadata": {},
   "source": [
    "Compute storage by linear relationship."
   ]
  },
  {
   "cell_type": "code",
   "execution_count": 25,
   "metadata": {},
   "outputs": [
    {
     "data": {
      "text/plain": [
       "========================\n",
       "[Storage]\n",
       "Time\tValue\n",
       "0\t0\n",
       "1\t106416.80291787199\n",
       "2\t401575.87155676394\n",
       "3\t576706.475405063\n",
       "4\t499356.2482978924\n",
       "5\t386308.6760508535\n",
       "6\t298853.5613619419\n",
       "7\t231197.11431735693\n",
       "8\t178857.18150749122\n",
       "9\t138366.30907465456\n",
       "10\t107042.02831319334\n",
       "11\t82809.14553571276\n",
       "12\t64062.26313547592\n",
       "13\t49559.42404053734\n",
       "14\t38339.83364021446\n",
       "15\t29660.208366363873\n",
       "16\t22945.534104075487\n",
       "17\t17750.972239236362\n",
       "18\t13732.389667154177\n",
       "19\t10623.560412861947\n",
       "20\t8218.528499498658\n",
       "21\t6357.963627269053\n",
       "22\t4918.6057440991\n",
       "23\t3805.0992242426814\n",
       "24\t2943.6756795770007\n",
       "========================"
      ]
     },
     "execution_count": 25,
     "metadata": {},
     "output_type": "execute_result"
    }
   ],
   "source": [
    "storages"
   ]
  },
  {
   "cell_type": "code",
   "execution_count": 27,
   "metadata": {},
   "outputs": [
    {
     "data": {
      "image/png": "[encoded data removed]",
      "text/plain": [
       "<Figure size 432x288 with 1 Axes>"
      ]
     },
     "metadata": {
      "needs_background": "light"
     },
     "output_type": "display_data"
    }
   ],
   "source": [
    "storages.plot()"
   ]
  }
 ],
 "metadata": {
  "interpreter": {
   "hash": "27a7da4b195e4199d8227e5668cddaae98a4315954ec6a4e6e28ff24793ee1f6"
  },
  "kernelspec": {
   "display_name": "Python 3.9.12 ('pyWaterEng')",
   "language": "python",
   "name": "python3"
  },
  "language_info": {
   "codemirror_mode": {
    "name": "ipython",
    "version": 3
   },
   "file_extension": ".py",
   "mimetype": "text/x-python",
   "name": "python",
   "nbconvert_exporter": "python",
   "pygments_lexer": "ipython3",
   "version": "3.9.12"
  },
  "orig_nbformat": 4
 },
 "nbformat": 4,
 "nbformat_minor": 2
}
