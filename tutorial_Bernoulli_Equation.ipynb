{
 "cells": [
  {
   "cell_type": "markdown",
   "metadata": {},
   "source": [
    "# Bernoulli Equation\n",
    "With the help of `PyWaterEng`, you can use the Bernoulli equation to compute hydraulic variables including elevation, velocity, pressure, etc. Moreover, head loss (friction loss and local loss), pumps, and turbines can be considered. "
   ]
  },
  {
   "cell_type": "code",
   "execution_count": 1,
   "metadata": {},
   "outputs": [],
   "source": [
    "from hydraulics.Pipeflow import Circle\n",
    "from hydraulics.Pipeflow import BernoulliEquation"
   ]
  },
  {
   "cell_type": "markdown",
   "metadata": {},
   "source": [
    "## No loss, no pump, and no turbine\n",
    "Compute elevation."
   ]
  },
  {
   "cell_type": "code",
   "execution_count": 2,
   "metadata": {},
   "outputs": [
    {
     "data": {
      "text/plain": [
       "20.00012979591837"
      ]
     },
     "execution_count": 2,
     "metadata": {},
     "output_type": "execute_result"
    }
   ],
   "source": [
    "eq = BernoulliEquation(g=9.8, rou=1e3)\n",
    "z2 = eq.compute(z1=20, u1=0.988, p1=5000,\n",
    "           z2=None, u2=0.56, p2=5330)\n",
    "z2"
   ]
  },
  {
   "cell_type": "markdown",
   "metadata": {},
   "source": [
    "Compute velocity."
   ]
  },
  {
   "cell_type": "code",
   "execution_count": 3,
   "metadata": {},
   "outputs": [
    {
     "data": {
      "text/plain": [
       "5.939696961966999"
      ]
     },
     "execution_count": 3,
     "metadata": {},
     "output_type": "execute_result"
    }
   ],
   "source": [
    "u2 = eq.compute(z1=1.8, u1=0, p1=0,\n",
    "                z2=0, u2=None, p2=0)\n",
    "u2"
   ]
  },
  {
   "cell_type": "markdown",
   "metadata": {},
   "source": [
    "Compute pressure."
   ]
  },
  {
   "cell_type": "code",
   "execution_count": 4,
   "metadata": {},
   "outputs": [
    {
     "data": {
      "text/plain": [
       "4997.248554999998"
      ]
     },
     "execution_count": 4,
     "metadata": {},
     "output_type": "execute_result"
    }
   ],
   "source": [
    "p2 = eq.compute(z1=20, u1=0.988, p1=5000,\n",
    "           z2=19, u2=4.5367, p2=None) # 4-digit is needed in this case for precision\n",
    "p2"
   ]
  },
  {
   "cell_type": "markdown",
   "metadata": {},
   "source": [
    "Sometimes, the velocity is not provided. In this case, you should use continuity equation to compute the velocity."
   ]
  },
  {
   "cell_type": "code",
   "execution_count": 5,
   "metadata": {},
   "outputs": [
    {
     "data": {
      "text/plain": [
       "(4997.091158683882, 4.53673469387755)"
      ]
     },
     "execution_count": 5,
     "metadata": {},
     "output_type": "execute_result"
    }
   ],
   "source": [
    "u2 = 0.988 * Circle(diameter=0.3).area() / Circle(diameter=0.14).area()\n",
    "p2 = eq.compute(z1=20, u1=0.988, p1=5000,\n",
    "           z2=19, u2=u2, p2=None)\n",
    "p2, u2"
   ]
  },
  {
   "cell_type": "markdown",
   "metadata": {},
   "source": [
    "You can also compute intermediate results."
   ]
  },
  {
   "cell_type": "code",
   "execution_count": 12,
   "metadata": {},
   "outputs": [
    {
     "data": {
      "text/plain": [
       "(20.560007346938775, 0.5102040816326531, 0.049803265306122446)"
      ]
     },
     "execution_count": 12,
     "metadata": {},
     "output_type": "execute_result"
    }
   ],
   "source": [
    "z1 = 20\n",
    "u1 = 0.988\n",
    "p1 = 5000\n",
    "z2 = 19\n",
    "u2 = 5.94\n",
    "eq.total_head(z1, u1, p1), eq.pressure_head(p1), eq.velocity_head(u1)\n"
   ]
  },
  {
   "cell_type": "markdown",
   "metadata": {},
   "source": [
    "# Loss"
   ]
  },
  {
   "cell_type": "code",
   "execution_count": 6,
   "metadata": {},
   "outputs": [
    {
     "data": {
      "text/plain": [
       "7.857142857142847"
      ]
     },
     "execution_count": 6,
     "metadata": {},
     "output_type": "execute_result"
    }
   ],
   "source": [
    "eq = BernoulliEquation()\n",
    "hl = eq.compute(z1=90, u1=0, p1=275*1e3,\n",
    "                z2=75, u2=0, p2=345*1e3, hl=None)\n",
    "hl"
   ]
  },
  {
   "cell_type": "markdown",
   "metadata": {},
   "source": [
    "Compute friction loss with Darcy Weisbach equation."
   ]
  },
  {
   "cell_type": "code",
   "execution_count": 8,
   "metadata": {},
   "outputs": [
    {
     "data": {
      "text/plain": [
       "2.7551020408163263"
      ]
     },
     "execution_count": 8,
     "metadata": {},
     "output_type": "execute_result"
    }
   ],
   "source": [
    "hl=eq.darcy_weisbach(l=30, hl=None, f=0.015, d=0.075, u=3)\n",
    "hl"
   ]
  },
  {
   "cell_type": "markdown",
   "metadata": {},
   "source": [
    "Compute friction factor."
   ]
  },
  {
   "cell_type": "code",
   "execution_count": 9,
   "metadata": {},
   "outputs": [
    {
     "data": {
      "text/plain": [
       "0.14999444444444446"
      ]
     },
     "execution_count": 9,
     "metadata": {},
     "output_type": "execute_result"
    }
   ],
   "source": [
    "f = eq.darcy_weisbach(l=30, hl=27.55, f=None, d=0.075, u=3)\n",
    "f\n"
   ]
  },
  {
   "cell_type": "markdown",
   "metadata": {},
   "source": [
    "You can also compute Reynolds number, which is necessary for Moody diagram."
   ]
  },
  {
   "cell_type": "code",
   "execution_count": 10,
   "metadata": {},
   "outputs": [
    {
     "data": {
      "text/plain": [
       "2628504.672897196"
      ]
     },
     "execution_count": 10,
     "metadata": {},
     "output_type": "execute_result"
    }
   ],
   "source": [
    "Re = Circle(diameter=0.75).reynolds_number(3.0, kinematicViscosity=0.856e-6)\n",
    "Re"
   ]
  }
 ],
 "metadata": {
  "interpreter": {
   "hash": "619ed3efdcaf8617404ae6b93c1afc93006e497ed76e4899413d2113c773f469"
  },
  "kernelspec": {
   "display_name": "Python 3.9.12 ('pyWaterEng')",
   "language": "python",
   "name": "python3"
  },
  "language_info": {
   "codemirror_mode": {
    "name": "ipython",
    "version": 3
   },
   "file_extension": ".py",
   "mimetype": "text/x-python",
   "name": "python",
   "nbconvert_exporter": "python",
   "pygments_lexer": "ipython3",
   "version": "3.9.12"
  },
  "orig_nbformat": 4
 },
 "nbformat": 4,
 "nbformat_minor": 2
}
